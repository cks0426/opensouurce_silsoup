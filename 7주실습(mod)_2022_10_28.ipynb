{
 "cells": [
  {
   "cell_type": "markdown",
   "metadata": {},
   "source": [
    "## Chapter 08: Advanced Counting\n",
    "복잡한 카운팅 문제는 단지 순열, 조합 이나 간단히 카운팅 원리(예; pigeonhole 원리)로 해결하기 힘들다.   \n",
    "이러한 복잡한 카운팅 문제에서 점화식이 발견되면 재귀적 알고리즘으로 해결할 수있다, 본 실습에서는 점화식(재귀식)으로 기술되는 카운팅 문제 해결을 파이썬 코딩으로 풀어 내는 것을 실습한다.   "
   ]
  },
  {
   "cell_type": "markdown",
   "metadata": {},
   "source": [
    "이번 실습에서는 파이썬의 객체지향 프로그래밍 방식을 활용한다. 파이썬은 클래스를 지원하는 데, 클래스는 데이터(프로퍼티)와 이를 조작하는 함수(메소드)를 함께 묶어 놓은 데이터 타입이다. 클래스는 형틀로 볼 수있는 데, 이 형틀로부터 실체화되어 생성되는 것을 (클래스)객체(class object)라 한다. \n",
    "클래스를 정의하는 구문은 아래를 참조한다. "
   ]
  },
  {
   "cell_type": "code",
   "execution_count": null,
   "metadata": {},
   "outputs": [],
   "source": [
    "class Greeter:\n",
    "\n",
    "    # Constructor\n",
    "    def __init__(self, name):\n",
    "        self.name = name  # Create an instance variable\n",
    "\n",
    "    # Instance method\n",
    "    def greet(self, loud=False):\n",
    "        if loud:\n",
    "            print ('HELLO, %s!' % self.name.upper())\n",
    "        else:\n",
    "            print ( 'Hello, %s' % self.name )\n",
    "\n",
    "g = Greeter('Fred')  # Construct an instance of the Greeter class\n",
    "g.greet()            # Call an instance method; prints \"Hello, Fred\"\n",
    "g.greet(loud=True)   # Call an instance method; prints \"HELLO, FRED!\""
   ]
  },
  {
   "cell_type": "markdown",
   "metadata": {},
   "source": [
    "상기 클래스 정의에서 알 수있듯이, 클래스로부터 객체가 생성될 때 불리워지는 생성자(constructor)는  $def ~~__init__(self, initializing argument):$ 등으로 구현된다. 이때, $self$ 는 생성되는 객체를 가르킨다. "
   ]
  },
  {
   "cell_type": "markdown",
   "metadata": {},
   "source": [
    "### 다음은 교과서 8.1절 example 1 에서 다루는 \"Fibonacci 수열\"  재귀적 함수에서의 덧셈 연산 횟수 카운팅을 파이썬으로 코딩하여 보자"
   ]
  },
  {
   "cell_type": "code",
   "execution_count": 1,
   "metadata": {},
   "outputs": [],
   "source": [
    "def Fibo(n):\n",
    "    global add_count\n",
    "    if n <0:\n",
    "        return print (\"Pleaee chose n as integer > 0 \")\n",
    "    elif n ==0:\n",
    "        return 1\n",
    "    elif n ==1:\n",
    "        return 1\n",
    "    else:\n",
    "        add_count +=1           \n",
    "        return Fibo(n-1)+Fibo(n-2)"
   ]
  },
  {
   "cell_type": "code",
   "execution_count": 3,
   "metadata": {},
   "outputs": [
    {
     "name": "stdout",
     "output_type": "stream",
     "text": [
      "n=1, F(1)=1, Add_count=0\n",
      "n=2, F(2)=2, Add_count=1\n",
      "n=3, F(3)=3, Add_count=2\n",
      "n=4, F(4)=5, Add_count=4\n",
      "n=5, F(5)=8, Add_count=7\n",
      "n=6, F(6)=13, Add_count=12\n",
      "n=7, F(7)=21, Add_count=20\n",
      "n=8, F(8)=34, Add_count=33\n",
      "n=9, F(9)=55, Add_count=54\n"
     ]
    }
   ],
   "source": [
    "for n in range(1,10):   \n",
    "    add_count=0\n",
    "    print(\"n={}, F({})={}, Add_count={}\".format(n, n, Fibo(n), add_count))"
   ]
  },
  {
   "cell_type": "markdown",
   "metadata": {},
   "source": [
    "###  상기 \"Fibonacci 수열\" 재귀적 함수에서의 덧셈 연산 횟수  카운팅을 계산하는 파이썬  함수 구현"
   ]
  },
  {
   "cell_type": "code",
   "execution_count": 4,
   "metadata": {},
   "outputs": [],
   "source": [
    "def add_count_F(n):    \n",
    "    if n < 1:      return print (\"Pleaee chose n as integer > 0\")\n",
    "    elif n ==1:     \n",
    "        return 0\n",
    "    elif n ==2:\n",
    "        return 1\n",
    "    else:               \n",
    "        return add_count_F(n-1)+add_count_F(n-2)+1"
   ]
  },
  {
   "cell_type": "code",
   "execution_count": 6,
   "metadata": {},
   "outputs": [
    {
     "name": "stdout",
     "output_type": "stream",
     "text": [
      "n=1, Add_count=0\n",
      "n=2, Add_count=1\n",
      "n=3, Add_count=2\n",
      "n=4, Add_count=4\n",
      "n=5, Add_count=7\n",
      "n=6, Add_count=12\n",
      "n=7, Add_count=20\n",
      "n=8, Add_count=33\n",
      "n=9, Add_count=54\n"
     ]
    }
   ],
   "source": [
    "for n in range(1,10):       \n",
    "    print(\"n={}, Add_count={}\".format(n, add_count_F(n)))"
   ]
  },
  {
   "cell_type": "markdown",
   "metadata": {},
   "source": [
    "### 상기 재귀 관계식을 수학적으로 풀어 보고,  𝑛=3~9 에 대해 그 결과를 상기 결과와 비교하여 보자."
   ]
  },
  {
   "cell_type": "markdown",
   "metadata": {},
   "source": [
    "### 다음은 교과서 8.1절 example 1 에서 다루는 \"The Fibonacci  Numbers\"  문제를 해석적으로 풀어 보자.  \n",
    "#### $~~~~~~~~~~F(n)=F(n-1)+F(n-2) +1~~with ~~ F(2)=1 ~and ~ F(3)=2$   \n",
    "#### 이를 수학적으로 풀면 다음과 같다(풀이 방법은 교과서 8.2절 참조).   \n",
    "#### $~~~~~~~~~~F(n)= alpha*( \\frac{1+\\sqrt5}{2})^n +beta*( \\frac{1-\\sqrt5}{2})^n +C ~~~ for~~ n \\geq  2$   \n",
    "#### $~~~~~~~~~~C= C+C+1 ~~~ for~~ n \\geq  2$. 따라서, $C=-1$  \n",
    "### 이제, alpha 및 beta 는 다음 초기값을 만족하는 2개의 방정식을 풀어서 구한다.\n",
    "### $alpha*( \\frac{1+\\sqrt5}{2})^2 + beta*( \\frac{1-\\sqrt5}{2})^2 -1 =1$\n",
    "### $alpha*( \\frac{1+\\sqrt5}{2})^3 + beta*( \\frac{1-\\sqrt5}{2})^3 -1 =2$\n",
    "\n",
    "### 상기 2개 방정식을 만족하는 alpha 및 beta 는 다음과 같이 numpy 를 이용한 행렬방정식을  풀이를 통하여 구할 수있다.\n"
   ]
  },
  {
   "cell_type": "code",
   "execution_count": 13,
   "metadata": {},
   "outputs": [
    {
     "name": "stdout",
     "output_type": "stream",
     "text": [
      "0.7236067977499789 0.2763932022500211\n"
     ]
    }
   ],
   "source": [
    "from math import *\n",
    "import numpy as np \n",
    "#a = np.array([[1+sqrt(5), 3+sqrt(5)], [1-sqrt(5),3-sqrt(5)]])\n",
    "a = np.array([[3+sqrt(5),3-sqrt(5)], [2+sqrt(5),2-sqrt(5)]])\n",
    "b = np.array([4,3])\n",
    "x = np.linalg.solve(a, b)\n",
    "alpha=x[0]\n",
    "beta=x[1]\n",
    "print(alpha, beta)"
   ]
  },
  {
   "cell_type": "code",
   "execution_count": 14,
   "metadata": {},
   "outputs": [],
   "source": [
    "from math import *\n",
    "def Math_F(n):\n",
    "    if n <=0:\n",
    "        print (\"Pleaee chose n as integer > 0 \")\n",
    "    else:\n",
    "        return int(alpha*((1+sqrt(5))/2)**n + beta*((1-sqrt(5))/2)**n -1)"
   ]
  },
  {
   "cell_type": "code",
   "execution_count": 15,
   "metadata": {},
   "outputs": [
    {
     "name": "stdout",
     "output_type": "stream",
     "text": [
      "n=2, Add_count=1\n",
      "n=3, Add_count=2\n",
      "n=4, Add_count=4\n",
      "n=5, Add_count=7\n",
      "n=6, Add_count=12\n",
      "n=7, Add_count=20\n",
      "n=8, Add_count=33\n",
      "n=9, Add_count=54\n"
     ]
    }
   ],
   "source": [
    "for n in range(2,10):       \n",
    "    print(\"n={}, Add_count={}\".format(n, Math_F(n)))"
   ]
  },
  {
   "cell_type": "markdown",
   "metadata": {},
   "source": [
    "### 다음은 교과서 8.1절 example 2 에서 다루는 \"The Tower of Hanoi\"  문제의 해결을 파이썬으로 코딩하여 보자. "
   ]
  },
  {
   "cell_type": "markdown",
   "metadata": {},
   "source": [
    "하노이 탑은 세개의 막대와 각기 다른 크기의 원판들로 구성된다. 처음에, 해당 원판들이 크기가 큰 순서대로 첫번째 막대에 놓여 있다(즉, 가장 큰 원판이 가장 아래에 가장 작은 원판이 가장 위에 놓임; 아래 Figure 2 참조).  이를 2번째 막대로 모두 크기가 큰 순서대로 옮길려고 한다.  단, 중간 단계에서 작은 원판이 큰 원판 아래 놓이는 배치는 허용되지 않는다고 한다.    \n",
    "![Alttext](Hanoi_Tower.png)"
   ]
  },
  {
   "cell_type": "markdown",
   "metadata": {},
   "source": [
    "#### 1.  원판이 $n$ 개 일 때, 몇번을 옮겨야 하는 지의  횟수를 점화식(recurrence relation)으로 구해보자."
   ]
  },
  {
   "cell_type": "markdown",
   "metadata": {},
   "source": [
    " 원판이 $n$ 개 일 때, 옮겨야 하는 횟수를 $H(n)$ 이라 하자. 아래 그림을 참조하면,   \n",
    " 1) 먼저 첫번째 막대에서 $n-1$ 개의 원판을 세번째 막대로 옮긴다(그림 2(a)). 이 때 필요한 옮겨야 하는 횟수는 $H(n-1)$.     \n",
    " 2) 다음 첫번째 막대에서 남은 제일 큰 원판을 두번째 막대로 옮긴다(그림 2(b)). 이때 필요한 옮겨야 하는 횟수는 $1$.  \n",
    " 3) 마지막으로 세번째 막대의 $n-1$ 개의 원판을 두번째 막대로 옮긴다(그림 2(c)). 이 때 필요한 옮겨야 하는 횟수는 $H(n-1)$.  \n",
    " \n",
    " 따라서, $H(n)=2H(n-1)+1   ~~~(n >=1)$ 임을 알 수있다.   또한 초기조건은 $H(1)=1$.  \n",
    " \n",
    " ![Alttext](Hanoi_Tower_Proc.png)"
   ]
  },
  {
   "cell_type": "markdown",
   "metadata": {},
   "source": [
    "#### 2.  상기 점화식(recurrence relation)을 수학적으로 풀어 보자. "
   ]
  },
  {
   "cell_type": "markdown",
   "metadata": {},
   "source": [
    "점화식 (재귀식) $H(n)=2H(n-1)+1$ 을 풀면,  $H(n)=2^n -1 . $   (아래 참조)  \n",
    "#### 점화식 (재귀식) $H(n)=2H(n-1)+1 -----(1)$   \n",
    "#### $ H(n)=r^n $ 를 상기 점화식 (1)의 동차식 $H(n)=2H(n-1)$ 에 삽입하면, $r^n=2r^{n-1} ---> r^{n-1}(r-2)=0 --> r=2$\n",
    "#### 따라서, 동차 점화식의 해는 $H_h(n)=\\alpha 2^n ----- (2)$ \n",
    "#### 이제, 비동차 점화식 (1) (즉, $H(n)=2H(n-1)+1$) 의 특수해를 구하기 위해 $H(n)=C$ 이라 하고, 이를 식 (1)에 대입하면, \n",
    "####      $C=2C+1 ---> C=-1  ---- (3) $\n",
    "#### (2) 와 (3) 으로부터, 점화식 (1)의 해는 $H(n)=\\alpha 2^n -1$ .  ~초기 조건 $H(n=1)=1$ 로 부터 $H(1)=\\alpha 2-1=1 ---> \\alpha=1 $\n",
    "#### 따라서, 점화식 (재귀식) $H(n)=2H(n-1)+1 -----(1)$  의 해는 $H(n)=2^n -1 $ 이다. \n"
   ]
  },
  {
   "cell_type": "markdown",
   "metadata": {},
   "source": [
    "#### 3.  상기 점화식을 파이썬 코딩하여 보자."
   ]
  },
  {
   "cell_type": "code",
   "execution_count": 4,
   "metadata": {},
   "outputs": [],
   "source": [
    "def ToH_Counting(n):\n",
    "    if n < 1:\n",
    "        print(\"Please take n as an integer greater than 0\")\n",
    "    if n==1:\n",
    "        return 1\n",
    "    else:\n",
    "        return 2*ToH_Counting(n-1)+1 "
   ]
  },
  {
   "cell_type": "code",
   "execution_count": 6,
   "metadata": {},
   "outputs": [
    {
     "data": {
      "text/plain": [
       "15"
      ]
     },
     "execution_count": 6,
     "metadata": {},
     "output_type": "execute_result"
    }
   ],
   "source": [
    "ToH_Counting(4)"
   ]
  },
  {
   "cell_type": "markdown",
   "metadata": {},
   "source": [
    "####  4.  이제, 원판이 $n$ 개 일 때, 첫번째 막대에서 3번째 막대로 모두 옮길려면 어떻게 원판을 옮겨야 하는 지의 절차를 보여주는 파이썬 코딩을 해보자."
   ]
  },
  {
   "cell_type": "code",
   "execution_count": 15,
   "metadata": {},
   "outputs": [],
   "source": [
    "# i ; total number of moves to solve 'The Tower of Hanoi Puzzle' \n",
    "def ToH_inner(n, src, dest): # n ; number of disks, src ; starting peg, dest; des.\n",
    "    if n<0:\n",
    "        print(\"Please take n as an integer greater than 0\")\n",
    "    if n==1:\n",
    "        global i\n",
    "        i+=1\n",
    "        return print(\"{no} : move a disk from 'peg{A}' to 'peg{B}' \".format(no=i, A=src, B=dest))\n",
    "    zz={1,2,3}-{src, dest}\n",
    "    intm=list(zz)[0]\n",
    "    ToH_inner(n-1, src, intm)\n",
    "    ToH_inner(1, src, dest)\n",
    "    ToH_inner(n-1, intm, dest)\n",
    "\n",
    "def ToH(n, src, dest):\n",
    "    ToH_inner(n, src, dest)\n",
    "    print(\"\")\n",
    "    print(\"The total number of moves to solve 'The Tower of Hanoi puzzle' with {n_disk} disks is {no}.\".format(n_disk=n, no=i))    "
   ]
  },
  {
   "cell_type": "code",
   "execution_count": 16,
   "metadata": {},
   "outputs": [
    {
     "name": "stdout",
     "output_type": "stream",
     "text": [
      "1 : move a disk from 'peg1' to 'peg2' \n",
      "2 : move a disk from 'peg1' to 'peg3' \n",
      "3 : move a disk from 'peg2' to 'peg3' \n",
      "4 : move a disk from 'peg1' to 'peg2' \n",
      "5 : move a disk from 'peg3' to 'peg1' \n",
      "6 : move a disk from 'peg3' to 'peg2' \n",
      "7 : move a disk from 'peg1' to 'peg2' \n",
      "\n",
      "The total number of moves to solve 'The Tower of Hanoi puzzle' with 3 disks is 7.\n"
     ]
    }
   ],
   "source": [
    "i=0\n",
    "ToH(3, 1, 2)"
   ]
  },
  {
   "cell_type": "markdown",
   "metadata": {},
   "source": [
    "#### 'nonlocal' 를 사용하여 글로벌 변수 사용하지 않는 풀이\n",
    "상기 파이썬 코딩 풀이에서,  'total number of moves to solve 'The Tower of Hanoi Puzzle' 를 구하기 위해, 매 재귀 함수에서 계산되는 이동을 카운팅하는 값을 보관하기 위해 글로벌 변수 'i' 를 사용했다. 그런데, 글로벌 변수 사용은  부작용(side effect) 을 초래하기 쉬우므로  가급적 피해야 한다.    \n",
    "재귀함수의 경우 지역변수 사용은 해당 함수 호출 문맥에서만 적용되므로, 다음 호출된 재귀함수에서는 적용되지 않는다. 따라서, 매 재귀호출때마다, 지역변수의 초기화가 이루어져 글로벌 정보를 보관하지 못한다.  \n",
    "함수내에 재귀함수를 내부 함수로 만들고, 함수의 지역변수를 내부함수에서도 이용이 가능하도록 하는 \"nonlocal\" 를 사용하는 게 좋다.   \n",
    "\"nonlocal\" 키워드는 해당 변수가 지역변수가 아니고 nonlocal 이 사용된 함수 바로 한단계 바깥쪽에 위치한 지역 변수를 의미한다. "
   ]
  },
  {
   "cell_type": "code",
   "execution_count": 20,
   "metadata": {},
   "outputs": [],
   "source": [
    "def outer_func(): # outer function\n",
    "    x=0\n",
    "    x+=1 \n",
    "    print(x)\n",
    "    def inner_func():  #inner function  \n",
    "        nonlocal x  #inner_loop클로저의 지역 변수를 변경하고자 하는 경우에는 nonlocal 선언\n",
    "        x+=1\n",
    "   \n",
    "    inner_func()\n",
    "    print(x)       #함수내의 내부함수(inner function)에서 함수에 선언된 지역 변수를 참조할 수있다.   \n",
    "    \n",
    "    return   "
   ]
  },
  {
   "cell_type": "code",
   "execution_count": 18,
   "metadata": {},
   "outputs": [
    {
     "name": "stdout",
     "output_type": "stream",
     "text": [
      "1\n",
      "2\n"
     ]
    }
   ],
   "source": [
    "outer_func()"
   ]
  },
  {
   "cell_type": "markdown",
   "metadata": {},
   "source": [
    "#### 이제 'nonlocal' 를 이용하여 상기 'Tower of Hanoi' 파이썬 코드를 수정하여 보자."
   ]
  },
  {
   "cell_type": "code",
   "execution_count": 29,
   "metadata": {},
   "outputs": [],
   "source": [
    "\n",
    "def ToH2(n, src, dest):\n",
    "    i=0\n",
    "    def ToH_inner(n, src, dest): \n",
    "        if n<0:\n",
    "            print(\"Please take n as an integer greater than 0\")\n",
    "        if n==1:\n",
    "            nonlocal i\n",
    "            i+=1\n",
    "            return print(\"{no} : move a disk from 'peg{A}' to 'peg{B}' \".format(no=i, A=src, B=dest))\n",
    "        zz={1,2,3}-{src, dest}\n",
    "        intm=list(zz)[0]\n",
    "        ToH_inner(n-1, src, intm)\n",
    "        ToH_inner(1, src, dest)\n",
    "        ToH_inner(n-1, intm, dest)\n",
    "    \n",
    "    \n",
    "    ToH_inner(n, src, dest)\n",
    "    print(\"\")\n",
    "    print(\"The total number of moves to solve the The Tower of Hanoi puzzle with {n_disk} disks is {no}.\".format(n_disk=n, no=i))\n",
    "    "
   ]
  },
  {
   "cell_type": "code",
   "execution_count": 30,
   "metadata": {},
   "outputs": [
    {
     "name": "stdout",
     "output_type": "stream",
     "text": [
      "1 : move a disk from 'peg1' to 'peg2' \n",
      "2 : move a disk from 'peg1' to 'peg3' \n",
      "3 : move a disk from 'peg2' to 'peg3' \n",
      "4 : move a disk from 'peg1' to 'peg2' \n",
      "5 : move a disk from 'peg3' to 'peg1' \n",
      "6 : move a disk from 'peg3' to 'peg2' \n",
      "7 : move a disk from 'peg1' to 'peg2' \n",
      "\n",
      "The total number of moves to solve the The Tower of Hanoi puzzle with 3 disks is 7.\n"
     ]
    }
   ],
   "source": [
    "ToH2(3, 1, 2)"
   ]
  },
  {
   "cell_type": "code",
   "execution_count": 31,
   "metadata": {},
   "outputs": [
    {
     "name": "stdout",
     "output_type": "stream",
     "text": [
      "1 : move a disk from 'peg1' to 'peg3' \n",
      "2 : move a disk from 'peg1' to 'peg2' \n",
      "3 : move a disk from 'peg3' to 'peg2' \n",
      "4 : move a disk from 'peg1' to 'peg3' \n",
      "5 : move a disk from 'peg2' to 'peg1' \n",
      "6 : move a disk from 'peg2' to 'peg3' \n",
      "7 : move a disk from 'peg1' to 'peg3' \n",
      "8 : move a disk from 'peg1' to 'peg2' \n",
      "9 : move a disk from 'peg3' to 'peg2' \n",
      "10 : move a disk from 'peg3' to 'peg1' \n",
      "11 : move a disk from 'peg2' to 'peg1' \n",
      "12 : move a disk from 'peg3' to 'peg2' \n",
      "13 : move a disk from 'peg1' to 'peg3' \n",
      "14 : move a disk from 'peg1' to 'peg2' \n",
      "15 : move a disk from 'peg3' to 'peg2' \n",
      "\n",
      "The total number of moves to solve the The Tower of Hanoi puzzle with 4 disks is 15.\n"
     ]
    }
   ],
   "source": [
    "ToH2(4, 1, 2)"
   ]
  },
  {
   "cell_type": "markdown",
   "metadata": {},
   "source": [
    "#### 이제, 옮겨지는 디스크 종류 까지를  출력해보도록 해보자. 이를 위해 '스택' (LIFO) 구조를 이용한다.\n",
    "스택 구조 구현은 다음과 같이 클래스로 구현하는 것이 편리하다. "
   ]
  },
  {
   "cell_type": "code",
   "execution_count": 32,
   "metadata": {},
   "outputs": [],
   "source": [
    "class Stack:\n",
    "    def __init__(self):\n",
    "        self.items = []\n",
    "\n",
    "    def isEmpty(self):\n",
    "        return self.items == []\n",
    "\n",
    "    def push(self, item):\n",
    "        self.items.append(item)\n",
    "\n",
    "    def pop(self):\n",
    "        return self.items.pop()\n",
    "\n",
    "    def peek(self):\n",
    "        return self.items[len(self.items)-1]\n",
    "\n",
    "    def size(self):\n",
    "        return len(self.items)"
   ]
  },
  {
   "cell_type": "code",
   "execution_count": null,
   "metadata": {},
   "outputs": [],
   "source": [
    "s=Stack()\n",
    "print(s.isEmpty())\n",
    "s.push(4)\n",
    "s.push('dog')\n",
    "print(s.peek())\n",
    "s.push(True)\n",
    "print(s.size())\n",
    "print(s.isEmpty())\n",
    "s.push(8.4)\n",
    "print(s.pop())\n",
    "print(s.pop())\n",
    "print(s.size())"
   ]
  },
  {
   "cell_type": "code",
   "execution_count": null,
   "metadata": {},
   "outputs": [],
   "source": [
    "n=10\n",
    "for i in range(n,0, -1):\n",
    "    disk=\"disk_{i}\".format(i=i)\n",
    "    print(disk)"
   ]
  },
  {
   "cell_type": "code",
   "execution_count": 3,
   "metadata": {},
   "outputs": [],
   "source": [
    "class disk_stack:\n",
    "    def __init__(self, n=0):\n",
    "        self.items = []\n",
    "        if n>0:\n",
    "            for i in range(n, 0, -1):\n",
    "                temp=\"disk_{x}\".format(x=i)\n",
    "                self.push(temp)\n",
    "    def isEmpty(self):\n",
    "        return self.items == []\n",
    "\n",
    "    def push(self, item):\n",
    "        self.items.append(item)\n",
    "\n",
    "    def pop(self):\n",
    "#        if len(self.items)==0:\n",
    "#                return print(\"empty\")\n",
    "        return self.items.pop()\n",
    "\n",
    "    def peek(self):\n",
    "        if len(self.items)==0:\n",
    "                return print(\"empty\")\n",
    "        return self.items[len(self.items)-1]\n",
    "\n",
    "    def size(self):\n",
    "        return len(self.items)    \n"
   ]
  },
  {
   "cell_type": "code",
   "execution_count": 6,
   "metadata": {},
   "outputs": [
    {
     "name": "stdout",
     "output_type": "stream",
     "text": [
      "disk_1\n",
      "disk_1\n",
      "1 : move  from 'peg1'' to 'peg3'' \n",
      "1 : move 'disk_1' from 'peg1' to 'peg3' \n"
     ]
    }
   ],
   "source": [
    "peg_1_stack=disk_stack(4)\n",
    "peg_2_stack=disk_stack()\n",
    "disk_n=peg_1_stack.pop()\n",
    "print(disk_n)\n",
    "peg_2_stack.push(disk_n)\n",
    "print(peg_2_stack.peek())\n",
    "print(\"{no} : move  from 'peg{A}'' to 'peg{B}'' \".format(no=1,  A=1, B=3))\n",
    "print(\"{no} : move '{C}' from 'peg{A}' to 'peg{B}' \".format(no=1, C=disk_n, A=1, B=3))"
   ]
  },
  {
   "cell_type": "code",
   "execution_count": 7,
   "metadata": {},
   "outputs": [],
   "source": [
    "def ToH_inner(n, src, dest):\n",
    "    zz={1,2,3}-{src, dest}\n",
    "    intm=list(zz)[0]\n",
    "    global peg1_stack\n",
    "    global peg2_stack\n",
    "    global peg3_stack\n",
    "  # source stack, interlim stack, destination stack 결정   \n",
    "    if src==1:\n",
    "        src_stack=peg1_stack\n",
    "        if dest==2:\n",
    "                dest_stack=peg2_stack\n",
    "                intm_stack=peg3_stack\n",
    "        else:\n",
    "                dest_stack=peg3_stack\n",
    "                intm_stack=peg2_stack\n",
    "    elif src==2:\n",
    "        src_stack=peg2_stack\n",
    "        if dest==1:\n",
    "                dest_stack=peg1_stack\n",
    "                intm_stack=peg3_stack\n",
    "        else:\n",
    "                dest_stack=peg3_stack\n",
    "                intm_stack=peg1_stack\n",
    "    else:            \n",
    "        src_stack=peg3_stack\n",
    "        if dest==1:\n",
    "                dest_stack=peg1_stack\n",
    "                intm_stack=peg2_stack\n",
    "        if dest==2:\n",
    "                dest_stack=peg2_stack\n",
    "                intm_stack=peg1_stack\n",
    "        \n",
    "    if n<0:\n",
    "        print(\"Please take n as an integer greater than 0\")\n",
    " \n",
    "    if n==1:\n",
    "        global i\n",
    "        i+=1\n",
    "        disk=src_stack.pop()\n",
    "        dest_stack.push(disk)\n",
    "        return print(\"{no} : move '{C}' from 'peg{A}' to 'peg{B}' \".format(no=i, C=disk, A=src, B=dest))\n",
    "   \n",
    "    ToH_inner(n-1, src, intm)\n",
    "    ToH_inner(1, src, dest)\n",
    "    ToH_inner(n-1, intm, dest)\n",
    "\n",
    "def ToH(n, src, dest):\n",
    "    ToH_inner(n, src, dest)\n",
    "    print(\"\")\n",
    "    print(\"The total number of moves to solve the The Tower of Hanoi puzzle with {n_disk} disks is {no}.\".format(n_disk=n, no=i))\n",
    "    "
   ]
  },
  {
   "cell_type": "code",
   "execution_count": 8,
   "metadata": {},
   "outputs": [
    {
     "name": "stdout",
     "output_type": "stream",
     "text": [
      "1 : move 'disk_1' from 'peg1' to 'peg2' \n",
      "2 : move 'disk_2' from 'peg1' to 'peg3' \n",
      "3 : move 'disk_1' from 'peg2' to 'peg3' \n",
      "4 : move 'disk_3' from 'peg1' to 'peg2' \n",
      "5 : move 'disk_1' from 'peg3' to 'peg1' \n",
      "6 : move 'disk_2' from 'peg3' to 'peg2' \n",
      "7 : move 'disk_1' from 'peg1' to 'peg2' \n",
      "\n",
      "The total number of moves to solve the The Tower of Hanoi puzzle with 3 disks is 7.\n"
     ]
    }
   ],
   "source": [
    "i=0\n",
    "peg1_stack=disk_stack(3)   \n",
    "peg2_stack=disk_stack()    \n",
    "peg3_stack=disk_stack()\n",
    "ToH(3, 1, 2)   "
   ]
  },
  {
   "cell_type": "code",
   "execution_count": 9,
   "metadata": {},
   "outputs": [
    {
     "name": "stdout",
     "output_type": "stream",
     "text": [
      "1 : move 'disk_1' from 'peg1' to 'peg3' \n",
      "2 : move 'disk_2' from 'peg1' to 'peg2' \n",
      "3 : move 'disk_1' from 'peg3' to 'peg2' \n",
      "4 : move 'disk_3' from 'peg1' to 'peg3' \n",
      "5 : move 'disk_1' from 'peg2' to 'peg1' \n",
      "6 : move 'disk_2' from 'peg2' to 'peg3' \n",
      "7 : move 'disk_1' from 'peg1' to 'peg3' \n",
      "8 : move 'disk_4' from 'peg1' to 'peg2' \n",
      "9 : move 'disk_1' from 'peg3' to 'peg2' \n",
      "10 : move 'disk_2' from 'peg3' to 'peg1' \n",
      "11 : move 'disk_1' from 'peg2' to 'peg1' \n",
      "12 : move 'disk_3' from 'peg3' to 'peg2' \n",
      "13 : move 'disk_1' from 'peg1' to 'peg3' \n",
      "14 : move 'disk_2' from 'peg1' to 'peg2' \n",
      "15 : move 'disk_1' from 'peg3' to 'peg2' \n",
      "\n",
      "The total number of moves to solve the The Tower of Hanoi puzzle with 4 disks is 15.\n"
     ]
    }
   ],
   "source": [
    "i=0\n",
    "peg1_stack=disk_stack(4)   \n",
    "peg2_stack=disk_stack()    \n",
    "peg3_stack=disk_stack()\n",
    "ToH(4, 1, 2)   "
   ]
  },
  {
   "cell_type": "markdown",
   "metadata": {},
   "source": [
    "\n",
    "### 실습 \n"
   ]
  },
  {
   "cell_type": "markdown",
   "metadata": {},
   "source": [
    "### 실습 1.  우표를 파는 벤딩머신이 1 달러 코인, 1달러 지폐, 5달러 지폐만을 받아드린다고 한다. \n",
    "#### 1) 1달러 코인과 1달러 지폐를 벤딩머신에 삽입하는 순서가  차이가 있다고 할 때,  $n$ 달러를 벤딩머신에 삽입하는 경우의 수를 계산하는 재귀식(점화식) 을 구하시오.  ( $n$ 달러를 벤딩머신에 삽입하는 경우수를 $A(n) $  이라 하고, A(n) 의 재귀식을 구함).\n",
    "#### 2) 초기 조건들은 무엇인가?   (즉, $A(1), A(2), A(3), A(4), A(5) $  값을 구함,\n",
    "#### 3) 10달러를 삽입하는 방법에는 몇가지 방법이 있는가?  "
   ]
  },
  {
   "cell_type": "code",
   "execution_count": 12,
   "metadata": {},
   "outputs": [
    {
     "data": {
      "text/plain": [
       "1217"
      ]
     },
     "execution_count": 12,
     "metadata": {},
     "output_type": "execute_result"
    }
   ],
   "source": [
    "###A(n)=2A(n-1)+A(n-5)"
   ]
  },
  {
   "cell_type": "code",
   "execution_count": 14,
   "metadata": {},
   "outputs": [],
   "source": [
    "#A(1)=2\n",
    "#A(2)=4\n",
    "#A(3)=8\n",
    "#A(4)=16\n",
    "#A(5)=33"
   ]
  },
  {
   "cell_type": "code",
   "execution_count": null,
   "metadata": {},
   "outputs": [],
   "source": [
    "###1217가지"
   ]
  },
  {
   "cell_type": "markdown",
   "metadata": {},
   "source": [
    "### 실습 2 . 상기 실습1 에서 구한 점화식(recurrence relation)을 이용하여 $n$ 달러를 벤딩머신에 삽입하는 경우의 수를 구하는 재귀 알고리즘을 파이썬 코딩하시오."
   ]
  },
  {
   "cell_type": "code",
   "execution_count": 15,
   "metadata": {},
   "outputs": [
    {
     "data": {
      "text/plain": [
       "1217"
      ]
     },
     "execution_count": 15,
     "metadata": {},
     "output_type": "execute_result"
    }
   ],
   "source": [
    "def A(n):\n",
    "    if n==1:\n",
    "        return 2\n",
    "    if n==2:\n",
    "        return 4\n",
    "    if n==3:\n",
    "        return 8\n",
    "    if n==4:\n",
    "        return 16\n",
    "    if n==5:\n",
    "        return 33\n",
    "    return 2*A(n-1)+A(n-5)\n",
    "A(10)"
   ]
  }
 ],
 "metadata": {
  "kernelspec": {
   "display_name": "Python 3 (ipykernel)",
   "language": "python",
   "name": "python3"
  },
  "language_info": {
   "codemirror_mode": {
    "name": "ipython",
    "version": 3
   },
   "file_extension": ".py",
   "mimetype": "text/x-python",
   "name": "python",
   "nbconvert_exporter": "python",
   "pygments_lexer": "ipython3",
   "version": "3.9.7"
  }
 },
 "nbformat": 4,
 "nbformat_minor": 1
}
